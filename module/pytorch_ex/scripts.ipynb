{
 "cells": [
  {
   "cell_type": "code",
   "execution_count": null,
   "metadata": {
    "vscode": {
     "languageId": "plaintext"
    }
   },
   "outputs": [],
   "source": [
    "import torch\n",
    "from torch.nn import MultiheadAttention\n",
    "model = MultiheadAttention(embed_dim=512, num_heads=8)\n",
    "Q = torch.rand(10, 32, 512)\n",
    "output = model(Q, Q, Q)\n",
    "print(output[0].size(), output[1].size(), '\\n')\n",
    "for i in model.named_parameters():\n",
    "    print(i[0], i[1].size())"
   ]
  },
  {
   "cell_type": "code",
   "execution_count": null,
   "metadata": {
    "vscode": {
     "languageId": "plaintext"
    }
   },
   "outputs": [],
   "source": [
    "import torch\n",
    "from torch.nn import TransformerEncoderLayer\n",
    "model = TransformerEncoderLayer(d_model=512, nhead=8)\n",
    "for i in model.named_parameters():\n",
    "    print(i[0], i[1].size())"
   ]
  },
  {
   "cell_type": "code",
   "execution_count": null,
   "metadata": {
    "vscode": {
     "languageId": "plaintext"
    }
   },
   "outputs": [],
   "source": [
    "from torch.nn import TransformerDecoder"
   ]
  },
  {
   "cell_type": "code",
   "execution_count": null,
   "metadata": {
    "vscode": {
     "languageId": "plaintext"
    }
   },
   "outputs": [],
   "source": [
    "import torch\n",
    "import torch.nn.functional as F\n",
    "t = torch.randn(3)\n",
    "print(t)\n",
    "print(F.softmax(t))\n",
    "print(F.softmax(t/10))"
   ]
  },
  {
   "cell_type": "code",
   "execution_count": null,
   "metadata": {
    "vscode": {
     "languageId": "plaintext"
    }
   },
   "outputs": [],
   "source": [
    "import torch\n",
    "t = torch.randn(2, 3, 4)\n",
    "print(t)"
   ]
  },
  {
   "cell_type": "code",
   "execution_count": null,
   "metadata": {
    "vscode": {
     "languageId": "plaintext"
    }
   },
   "outputs": [],
   "source": [
    "i = torch.tensor([[True, True, False],\n",
    "                  [False, True, True]])\n",
    "print(i.shape)\n",
    "print(t[i].shape)\n",
    "i = torch.logical_not(i).to(torch.int8)\n",
    "print(i)\n"
   ]
  }
 ],
 "metadata": {
  "language_info": {
   "name": "python"
  }
 },
 "nbformat": 4,
 "nbformat_minor": 2
}
