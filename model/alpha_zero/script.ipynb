{
 "cells": [
  {
   "cell_type": "code",
   "execution_count": 8,
   "metadata": {},
   "outputs": [
    {
     "name": "stdout",
     "output_type": "stream",
     "text": [
      "17432\n",
      "(123, 3)\n",
      "(45, 3)\n",
      "()\n",
      "46\n"
     ]
    }
   ],
   "source": [
    "import pickle\n",
    "from collections import deque\n",
    "from config import CONFIG\n",
    "\n",
    "with open(CONFIG[\"train_data_buffer_path\"], \"rb\") as data_dict:\n",
    "    data_file = pickle.load(data_dict)\n",
    "    data_buffer = data_file[\"data_buffer\"]\n",
    "    print(len(data_buffer))\n",
    "    print(data_buffer[0][0].shape)\n",
    "    print(data_buffer[0][1].shape)\n",
    "    print(data_buffer[0][2].shape)\n",
    "    print(data_file[\"iters\"])"
   ]
  }
 ],
 "metadata": {
  "kernelspec": {
   "display_name": "py312",
   "language": "python",
   "name": "python3"
  },
  "language_info": {
   "codemirror_mode": {
    "name": "ipython",
    "version": 3
   },
   "file_extension": ".py",
   "mimetype": "text/x-python",
   "name": "python",
   "nbconvert_exporter": "python",
   "pygments_lexer": "ipython3",
   "version": "3.12.9"
  }
 },
 "nbformat": 4,
 "nbformat_minor": 2
}
